{
 "cells": [
  {
   "cell_type": "code",
   "execution_count": null,
   "id": "5fee322d-b3cd-4c0b-8028-b14a086554ee",
   "metadata": {},
   "outputs": [],
   "source": []
  }
 ],
 "metadata": {
  "kernelspec": {
   "display_name": "",
   "name": ""
  },
  "language_info": {
   "name": ""
  }
 },
 "nbformat": 4,
 "nbformat_minor": 5
}
